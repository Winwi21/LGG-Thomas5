{
 "cells": [
  {
   "cell_type": "markdown",
   "metadata": {},
   "source": [
    "# Drill : Basics python syntax\n"
   ]
  },
  {
   "cell_type": "markdown",
   "metadata": {},
   "source": [
    "In some of these exercises, you will have to use methods that you have not seen yet. In this case, search on google for an example of use. Take the right habits to avoid being blocked"
   ]
  },
  {
   "cell_type": "markdown",
   "metadata": {},
   "source": [
    "Run all cells before starting the tests."
   ]
  },
  {
   "cell_type": "markdown",
   "metadata": {},
   "source": [
    "**1. Create a variable `age` that contains value 32**"
   ]
  },
  {
   "cell_type": "code",
   "execution_count": 7,
   "metadata": {},
   "outputs": [],
   "source": [
    "age = 32"
   ]
  },
  {
   "cell_type": "markdown",
   "metadata": {},
   "source": [
    "**2. Add 10 to variable `age`**"
   ]
  },
  {
   "cell_type": "code",
   "execution_count": 9,
   "metadata": {},
   "outputs": [],
   "source": [
    "age += 10"
   ]
  },
  {
   "cell_type": "markdown",
   "metadata": {},
   "source": [
    "**3. Create a variable `div_age` and assign it the value of the age divided by 7**  \n",
    "- ❗ Be careful, it must be an integer."
   ]
  },
  {
   "cell_type": "code",
   "execution_count": 10,
   "metadata": {},
   "outputs": [],
   "source": [
    "divAge = int(age/7)"
   ]
  },
  {
   "cell_type": "markdown",
   "metadata": {},
   "source": [
    "**4. Create a variable `text_div` that contains the character string \"42 divided by 7 equals 6\".**  \n",
    "- You must use the `age` and `div_age` variables"
   ]
  },
  {
   "cell_type": "code",
   "execution_count": 11,
   "metadata": {},
   "outputs": [],
   "source": [
    "text_div = \"{age} divided by 7 equals {div_age}\""
   ]
  },
  {
   "cell_type": "markdown",
   "metadata": {},
   "source": [
    "**5. Create a variable `rest_div` that contains the rest of the variable `age` divided by 7**"
   ]
  },
  {
   "cell_type": "code",
   "execution_count": 12,
   "metadata": {},
   "outputs": [],
   "source": [
    "rest_div = age%7"
   ]
  },
  {
   "cell_type": "markdown",
   "metadata": {},
   "source": [
    "**6. Create a variable `exp_div` that contains the value of `rest_div` to the 3rd power**"
   ]
  },
  {
   "cell_type": "code",
   "execution_count": 13,
   "metadata": {},
   "outputs": [],
   "source": [
    "exp_div = rest_div**3"
   ]
  },
  {
   "cell_type": "markdown",
   "metadata": {},
   "source": [
    "**7. Write a program that enters an integer and then displays the value entered and its type.**"
   ]
  },
  {
   "cell_type": "code",
   "execution_count": null,
   "metadata": {},
   "outputs": [
    {
     "name": "stdout",
     "output_type": "stream",
     "text": [
      "5\n"
     ]
    }
   ],
   "source": [
    "a = 2\n",
    "b = 3\n",
    "print (int(a+b))"
   ]
  },
  {
   "cell_type": "markdown",
   "metadata": {},
   "source": [
    "**8. Use variables to represent the price of materials.**  \n",
    "- 2 bottles of milk at €0.45 each\n",
    "- 3 bottles of raw cider at €3.85 each\n",
    "- 1 bag of flour at 0.9 €\n",
    "- 1 packet of butter at €0.77\n",
    "- 1 jar of nutella at €1.87  \n",
    "\n",
    "**Calculate the sum of all items and store it in a `order_price` variable**"
   ]
  },
  {
   "cell_type": "code",
   "execution_count": 14,
   "metadata": {},
   "outputs": [
    {
     "name": "stdout",
     "output_type": "stream",
     "text": [
      "15.99\n"
     ]
    }
   ],
   "source": [
    "milk = 0.45*2\n",
    "cider = 3.85*3\n",
    "flour = 0.9\n",
    "butter = 0.77\n",
    "nutella = 1.87\n",
    "order_price = milk+cider+flour+butter+nutella\n",
    "print (round(order_price,2))"
   ]
  },
  {
   "cell_type": "markdown",
   "metadata": {},
   "source": [
    "**Create a variable `allowance_money` which has a value of 20 and then create an algorithm that calculates the available money by subtracting the price of the order.**\n",
    "\n",
    "If there is enough money, record the following sentence in the variable `message` and subtract the expense from `allowance_money` : \n",
    "- message = \"You have spent\" + `order_price` + \"you have left\" + `allowance_money` \n",
    "\n",
    "If there is not enough money, record the following sentence in the `message` variable: \n",
    "- message= \"Sorry you're missing *amount_missing* euros\" \n",
    "\n",
    "If there is 0 left, record the following sentence in the `message` variable: \n",
    "- message = \"You are broke!\"\n"
   ]
  },
  {
   "cell_type": "code",
   "execution_count": 24,
   "metadata": {},
   "outputs": [
    {
     "name": "stdout",
     "output_type": "stream",
     "text": [
      "You have spent 15.99, you have left 20.\n"
     ]
    }
   ],
   "source": [
    "message = \"\"\n",
    "# Declare and assign the variable `allowance_money`\n",
    "allowance_money = 20\n",
    "order_price = 15.99\n",
    "amount_missing = int(allowance_money - order_price)\n",
    "# Then\n",
    "if amount_missing > 0:\n",
    "    print (f\"You have spent {order_price}, you have left {allowance_money}.\")\n",
    "elif amount_missing ==0:\n",
    "    print (\"You are broke!\")\n",
    "else:\n",
    "    print (f\"Sorry you're missing {amount_missing} euros\")"
   ]
  },
  {
   "cell_type": "markdown",
   "metadata": {},
   "source": [
    "**9. Write a program that asks you to enter 2 values and displays the smallest of the 2 values**"
   ]
  },
  {
   "cell_type": "code",
   "execution_count": 42,
   "metadata": {},
   "outputs": [
    {
     "name": "stdout",
     "output_type": "stream",
     "text": [
      "23\n"
     ]
    }
   ],
   "source": [
    "x = int(input(\"Enter a first value:\"))\n",
    "y = int(input('Enter a second value:'))\n",
    "smallest = min(x,y)\n",
    "print(smallest)"
   ]
  },
  {
   "cell_type": "markdown",
   "metadata": {},
   "source": [
    "**10. Write a script that asks you to enter 2 strings and displays the largest of the 2 strings (the one with the most characters).**"
   ]
  },
  {
   "cell_type": "code",
   "execution_count": 4,
   "metadata": {},
   "outputs": [
    {
     "name": "stdout",
     "output_type": "stream",
     "text": [
      "voiture\n"
     ]
    }
   ],
   "source": [
    "x = str(input(\"Enter a first string:\"))\n",
    "y = str(input(\"Enter a second string:\"))\n",
    "char_x = len(x)\n",
    "char_y = len(y)\n",
    "if char_x > char_y:\n",
    "    print (x)\n",
    "else:\n",
    "    print (y)"
   ]
  },
  {
   "cell_type": "markdown",
   "metadata": {},
   "source": [
    "**11. Write a script that converts euros into dollars.**\n",
    "- The program will start by asking the user to indicate with a character 'E' or '$' depending on the currency of the amount they are entering.\n",
    "- Then the program will ask you to enter the amount and display the conversion."
   ]
  },
  {
   "cell_type": "code",
   "execution_count": 27,
   "metadata": {},
   "outputs": [
    {
     "name": "stdout",
     "output_type": "stream",
     "text": [
      "9.3\n"
     ]
    }
   ],
   "source": [
    "character = input(\"Enter E for euro and D for dollar:\")\n",
    "amount = int(input(\"Enter the amount:\"))\n",
    "if \"E\" in character:\n",
    "    print (amount*1.08)\n",
    "elif \"D\" in character:\n",
    "    print (amount*0.93)\n",
    "else:\n",
    "    print (\"No conversion\")"
   ]
  },
  {
   "cell_type": "markdown",
   "metadata": {},
   "source": [
    "**12. Check if the variable `name` is in the `students_turing` list. (Without making a loop)** \n",
    "* If the name is in the list, display \"You are at the turing's\".\n",
    "* Otherwise display: \"You are not part of the turing's\""
   ]
  },
  {
   "cell_type": "code",
   "execution_count": null,
   "metadata": {},
   "outputs": [],
   "source": [
    "studentsTuring = [\"Redouane\", \"Justine\", \"Ruben\", \"Edouard\"]\n",
    "name = \"Julie\""
   ]
  },
  {
   "cell_type": "code",
   "execution_count": null,
   "metadata": {},
   "outputs": [
    {
     "name": "stdout",
     "output_type": "stream",
     "text": [
      "You are not part of the turing's\n"
     ]
    },
    {
     "ename": "",
     "evalue": "",
     "output_type": "error",
     "traceback": [
      "\u001b[1;31mThe Kernel crashed while executing code in the current cell or a previous cell. \n",
      "\u001b[1;31mPlease review the code in the cell(s) to identify a possible cause of the failure. \n",
      "\u001b[1;31mClick <a href='https://aka.ms/vscodeJupyterKernelCrash'>here</a> for more info. \n",
      "\u001b[1;31mView Jupyter <a href='command:jupyter.viewOutput'>log</a> for further details."
     ]
    }
   ],
   "source": [
    "# Add your code here\n",
    "name = input(\"Enter your name:\")\n",
    "studentsTuring = [\"Redouane\", \"Justine\", \"Ruben\", \"Edouard\"]\n",
    "if name in studentsTuring:\n",
    "    print (\"You are at the turing's\")\n",
    "else:\n",
    "    print(\"You are not part of the turing's\")"
   ]
  },
  {
   "cell_type": "markdown",
   "metadata": {},
   "source": [
    "**13. Calculate the volume of a sphere using the formula *(4π/3) x R³*. The radius is 10.**  \n",
    "- Save the result in a \"volume\" variable.\n"
   ]
  },
  {
   "cell_type": "code",
   "execution_count": 78,
   "metadata": {},
   "outputs": [
    {
     "name": "stdout",
     "output_type": "stream",
     "text": [
      "0.01256\n"
     ]
    }
   ],
   "source": [
    "radius = int(input(\"Enter the radius:\"))\n",
    "volume = (4*3.14)/(radius**3)\n",
    "print (volume)"
   ]
  }
 ],
 "metadata": {
  "kernelspec": {
   "display_name": "Python 3",
   "language": "python",
   "name": "python3"
  },
  "language_info": {
   "codemirror_mode": {
    "name": "ipython",
    "version": 3
   },
   "file_extension": ".py",
   "mimetype": "text/x-python",
   "name": "python",
   "nbconvert_exporter": "python",
   "pygments_lexer": "ipython3",
   "version": "3.13.2"
  }
 },
 "nbformat": 4,
 "nbformat_minor": 2
}
